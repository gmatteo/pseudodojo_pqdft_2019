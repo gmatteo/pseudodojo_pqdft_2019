{
 "cells": [
  {
   "cell_type": "code",
   "execution_count": 9,
   "metadata": {
    "slideshow": {
     "slide_type": "skip"
    }
   },
   "outputs": [],
   "source": [
    "import os\n",
    "\n",
    "# Ignore numpy warnings\n",
    "import warnings\n",
    "warnings.filterwarnings('ignore')\n",
    "\n",
    "%matplotlib inline\n",
    "#%matplotlib notebook\n",
    "\n",
    "# Use seaborn settings.\n",
    "import seaborn as sns\n",
    "sns.set(\n",
    "        #context=\"paper\",\n",
    "        context=\"talk\",\n",
    "        #context=\"poster\",\n",
    "        style='darkgrid',\n",
    "        #style=\"dark\",\n",
    "        #palette='deep',\n",
    "        font='sans-serif', \n",
    "        #font_scale=1.0, \n",
    "        #color_codes=False, \n",
    "        rc={'figure.figsize': (12, 8.0)}, # width and height in inches.\n",
    ")\n",
    "\n",
    "import IPython\n",
    "\n",
    "#def _embed(src, width=\"800\", height=\"400\"):\n",
    "def _embed(src, width=\"1200\", height=\"400\"):\n",
    "    return IPython.display.IFrame(src=src, width=str(width), height=str(height))\n",
    "\n",
    "from IPython.core.magic import (register_line_magic, register_cell_magic,\n",
    "                                register_line_cell_magic)\n",
    "\n",
    "@register_line_magic\n",
    "def embed(line):\n",
    "    \"my line magic\"\n",
    "    #return line\n",
    "    return _embed(line)\n",
    "\n",
    "\n",
    "# We delete these to avoid name conflicts for automagic to work\n",
    "del embed\n",
    "#del lcmagic\n",
    "\n",
    "# Theme\n",
    "# import jtplot module in notebook\n",
    "#from jupyterthemes import jtplot\n",
    "\n",
    "# choose which theme to inherit plotting style from\n",
    "# onedork | grade3 | oceans16 | chesterish | monokai | solarizedl | solarizedd\n",
    "#jtplot.style(theme='monokai')\n",
    "\n",
    "# set \"context\" (paper, notebook, talk, poster)\n",
    "# scale font-size of ticklabels, legend, etc.\n",
    "# remove spines from x and y axes and make grid dashed\n",
    "#jtplot.style(context='talk', fscale=1.4, spines=False, gridlines='--')\n",
    "\n",
    "# turn on X- and Y-axis tick marks (default=False)\n",
    "# turn off the axis grid lines (default=True)\n",
    "# and set the default figure size\n",
    "#jtplot.style(ticks=True, grid=False, figsize=(6, 4.5))\n",
    "\n",
    "# reset default matplotlib rcParams\n",
    "#jtplot.reset()\n",
    "\n",
    "#from abipy import abilab\n",
    "#import abipy.data as abidata\n",
    "\n",
    "#si_pseudo = os.path.join(abidata.pseudo_dir, \"14si.pspnc\")"
   ]
  },
  {
   "cell_type": "markdown",
   "metadata": {
    "slideshow": {
     "slide_type": "slide"
    }
   },
   "source": [
    "# The PseudoDojo project\n",
    "\n",
    "### M. Giantomassi, M. J. van Setten *et. al*\n",
    "\n",
    "Workshop on Precision Quantification in DFT<br>\n",
    "<small>23-24nd May 2019 - Louvain-la-Neuve, Belgium</small>\n",
    "\n",
    "<!-- link rel=\"stylesheet\" href=\"reveal.js/css/theme/sky.css\" id=\"theme\" -->\n",
    "\n",
    "<img src=\"./assets/intro_logos.png\" width=\"85%\" heigh=\"15%\" align=\"center\">\n",
    "\n",
    "<!--\n",
    "<hr> \n",
    "\n",
    "* These slides have been generated using [jupyter](https://jupyter.org), [nbconvert](https://github.com/jupyter/nbconvert) and [revealjs](https://revealjs.com/)\n",
    "\n",
    "* The notebook can be downloaded from this [github repo](https://github.com/gmatteo/abipy_slides_aps_boston_2019)\n",
    "\n",
    "* To install and configure the software, follow these [installation instructions](https://github.com/abinit/abipy#getting-abipy)\n",
    "-->"
   ]
  },
  {
   "cell_type": "markdown",
   "metadata": {
    "slideshow": {
     "slide_type": "slide"
    }
   },
   "source": [
    "## A brief history of the project\n",
    "\n",
    "#### The PseudoDojo project started in xxxx with multiple goals in mind:\n",
    "\n",
    "* Replace legacy Abinit NC pseudos (PSPs) with more efficient and reliable versions\n",
    "\n",
    "* *automatic* $GW$ calculations with empty states:\n",
    "\n",
    "    * need good scattering properties in the empty region\n",
    "    * include semicore states in valence to *close* the shell\n",
    "\n",
    "* high-throughput DFPT studies:\n",
    "   \n",
    "    * need *reasonable* cutoff energies and some basic tests at the DFPT level \n",
    "    * must choose core-valence partitioning for each element\n",
    "\n",
    "* Provide all input files needed to regenerate/customize the pseudo \n",
    "  \n",
    "* Include record of the validation results\n",
    "\n",
    "* Provide users with ready-to-use files supporting different XC functionals and different codes \n",
    "\n",
    "The task was not easy but the *ab-initio* community was actively working on similar topics..."
   ]
  },
  {
   "cell_type": "markdown",
   "metadata": {
    "slideshow": {
     "slide_type": "subslide"
    }
   },
   "source": [
    "#### ONCVPS formalism by D. R. Hamann\n",
    "\n",
    "* Multiple projectors per $L$-channel\n",
    "* Improved convergence in $G$-space\n",
    "* Already interfaced (and tested) with Abinit\n",
    "\n",
    "##### Delta factor benchmark (before Science paper) \n",
    "\n",
    "* Database of AE-calculations for GS properties\n",
    "* Results obtained with PW codes (including Abinit with legacy tables)\n",
    "\n",
    "##### GBRV benchmark set \n",
    "\n",
    "* Reference AE results for *bcc*, *fcc*, *rocksalt*, *half-heusler*\n",
    "\n",
    "##### SG Table\n",
    "\n",
    "* ONCVPSP table generated with Pareto principle optimization\n",
    "* No model-core charge\n",
    "* Scattering properties at high-energy and $GW$ methods with empty states \n",
    "  were not explicitly included in the optimization process"
   ]
  },
  {
   "cell_type": "markdown",
   "metadata": {
    "slideshow": {
     "slide_type": "subslide"
    }
   },
   "source": [
    "## Our approach to a not-so-trivial task\n",
    "\n",
    "* PSP generation is a multi-objective optimization problem\n",
    "* Must consider: performance, accuracy, high-pressure, GS, DFPT, $GW$ ...)\n",
    "* In other words: whatever you do, you can always find an user that is not happy about your choice!\n",
    "\n",
    "#### Our \"philosophy\"\n",
    "\n",
    "* Include model-core charge *almost* everywhere to improve transferability \n",
    "* Generate pseudos with different core-valence partitioning:\n",
    "    * PSPs with outermost electrons for molecular-dynamics (*e.g.* *Li-2s*)\n",
    "    * PSPs with *shallow* states for GS/DFPT (*e.g.* *Ga-3d* or *Li-1s*)\n",
    "    * PSPs with closed shells for $GW$ (*e.g.* *Ga-3spd*)\n",
    "* Don't try to optimize the $E_{\\text{cut}}$ of a single pseudo but focus on the average \n",
    "  over the periodic table as the hardest PSP rules (*e.g.* $SiO_2$, $ZnO$, $HfO$ ...)\n",
    "* In principle, users may reuse our input files to generate PSPs optimized for their applications"
   ]
  },
  {
   "cell_type": "markdown",
   "metadata": {
    "slideshow": {
     "slide_type": "subslide"
    }
   },
   "source": [
    "## PseudoDojo Infrastructure\n",
    "\n",
    "#### Website at\n",
    "\n",
    "psp8 : (NC) the pseudo in the psp8 format (abinit)\n",
    "upf : (NC) the pseudoo in the upf format (quantum esperesso)\n",
    "psml : (NC) the pseudoo in the psml format (siesta)\n",
    "xml : (PAW) the paw dataset in xml format (abinit)\n",
    "html : (NC) the test report of the pseudo as a static html version of the dojo report jupyter notebook.\n",
    "djrepo : (NC) the test report of the pseudo as a json document."
   ]
  },
  {
   "cell_type": "markdown",
   "metadata": {
    "slideshow": {
     "slide_type": "subslide"
    }
   },
   "source": [
    "## The PseudoDojo project\n",
    "\n",
    "* Tables of norm-conserving and PAW pseudopotentials\n",
    "* Intensively tested (delta-gauge, GBRV benchmark set, ghost-states, phonons)\n",
    "* Different XC flavors (LDA, GGA-PBE, PBE-sol)\n",
    "* Hints for cutoff energy computed from validation tests\n",
    "* Several formats (psp8, upf, psxml, pawxml) compatible with \n",
    "  Abinit, QE, siesta, GPAW, octopus ...\n",
    "* Several electronic configurations:\n",
    "\n",
    "    * *standard* for GS/DFPT applications\n",
    "    * *stringent* for high-accuracy and many-body calculations (e.g. closed shell for $GW$)\n",
    "    \n",
    "* Files and jupyter notebooks are available at http://www.pseudo-dojo.org/\n",
    "* Github repository with python code to run validation tests\n",
    "\n",
    "\n",
    "<!--\n",
    "The PseudoDojo [1, 2] is an open-source python project for developing and systematically testing pseudopotentials. At present it contains four different batteries of tests executed with ABINIT and AbiPy (presence of ghost-states, deltafactor [3], GBRV benchmark [4], phonons with DFPT). The tests are performed\n",
    "as a function of the energy cutoff and the results are used to provide hints for the\n",
    "energy cutoff for actual production calculations. The pseudopotential files are\n",
    "available on the PseudoDojo web-interface in the ABINIT psp8 format, in the\n",
    "UPF2 format used by QE and in the PSML format [5] shared by SIESTA and\n",
    "ABINIT. The input files, the results produced by the pseudopotential generator,\n",
    "and the results of the tests are presented via jupyter notebooks as static HTML\n",
    "pages. Finally, each pseudopotential is linked to a JSON file with a full record of\n",
    "the different tests performed to validate the pseudopotential.\n",
    "-->"
   ]
  },
  {
   "cell_type": "markdown",
   "metadata": {
    "slideshow": {
     "slide_type": "subslide"
    }
   },
   "source": [
    "About PseudoDojo\n",
    "The PseudoDojo.org website gives access to the latest released version of the pseudopotentials of the PseudoDojo project.\n",
    "The PseudoDojo project is hosted on github. It is a python package to develop, test and store pseudo potentials.\n",
    "Previous versions can be found in the git repository.\n",
    "The web interface provides various files:\n",
    "\n",
    "psp8 : (NC) the pseudo in the psp8 format (abinit)\n",
    "upf : (NC) the pseudoo in the upf format (quantum esperesso)\n",
    "psml : (NC) the pseudoo in the psml format (siesta)\n",
    "xml : (PAW) the paw dataset in xml format (abinit)\n",
    "html : (NC) the test report of the pseudo as a static html version of the dojo report jupyter notebook.\n",
    "djrepo : (NC) the test report of the pseudo as a json document.\n",
    "The current version provided at this web interface are\n",
    "NC version 0.4: ONCVPSP_PDv0.4 in the git repository.\n",
    "NC version 0.3: ONCVPSP_PDv0.3 in the git repository.\n",
    "PAW JTH version 1.0.\n",
    "\n",
    "➜"
   ]
  },
  {
   "cell_type": "markdown",
   "metadata": {
    "slideshow": {
     "slide_type": "skip"
    }
   },
   "source": [
    "\n",
    "<img src=\"./assets/abipy_logo.jpg\" width=\"55%\" align=\"center\">\n",
    "<!-- img src=\"./assets/abinit_logo.jpg\" width=\"45%\" align=\"right\"-->\n",
    "\n",
    "## What is AbiPy?\n",
    "\n",
    "#### Python package for:\n",
    "\n",
    "   * Generating ABINIT input files automatically\n",
    "   * Post-processing output results (*netcdf* and *text* files)\n",
    "   * Interfacing ABINIT with external tools (e.g. [Vesta](http://jp-minerals.org/vesta/en/))\n",
    "   * Creating and executing workflows (band structures, phonons, $GW$…)\n",
    "   \n",
    "#### Project:\n",
    "\n",
    "* Developed and maintained by the ABINIT community\n",
    "* Used by developers to validate, profile and optimize ABINIT\n",
    "* Hosted on [github](https://github.com/abinit/abipy) \n",
    "* Release under the GPLv2 license"
   ]
  },
  {
   "cell_type": "code",
   "execution_count": 10,
   "metadata": {
    "slideshow": {
     "slide_type": "-"
    }
   },
   "outputs": [
    {
     "ename": "NameError",
     "evalue": "name 'inp' is not defined",
     "output_type": "error",
     "traceback": [
      "\u001b[0;31m---------------------------------------------------------------------------\u001b[0m",
      "\u001b[0;31mNameError\u001b[0m                                 Traceback (most recent call last)",
      "\u001b[0;32m<ipython-input-10-8c1d44aeeb90>\u001b[0m in \u001b[0;36m<module>\u001b[0;34m\u001b[0m\n\u001b[0;32m----> 1\u001b[0;31m \u001b[0mprint\u001b[0m\u001b[0;34m(\u001b[0m\u001b[0minp\u001b[0m\u001b[0;34m.\u001b[0m\u001b[0mstructure\u001b[0m\u001b[0;34m.\u001b[0m\u001b[0mformula\u001b[0m\u001b[0;34m)\u001b[0m\u001b[0;34m\u001b[0m\u001b[0;34m\u001b[0m\u001b[0m\n\u001b[0m",
      "\u001b[0;31mNameError\u001b[0m: name 'inp' is not defined"
     ]
    }
   ],
   "source": [
    "print(inp.structure.formula)"
   ]
  },
  {
   "cell_type": "markdown",
   "metadata": {
    "slideshow": {
     "slide_type": "-"
    }
   },
   "source": [
    "#### and a list of pseudopotentials"
   ]
  },
  {
   "cell_type": "code",
   "execution_count": null,
   "metadata": {
    "slideshow": {
     "slide_type": "-"
    }
   },
   "outputs": [],
   "source": [
    "for pseudo in inp.pseudos:\n",
    "    print(pseudo)"
   ]
  },
  {
   "cell_type": "markdown",
   "metadata": {
    "slideshow": {
     "slide_type": "-"
    }
   },
   "source": [
    "#### Pseudos from the [PseudoDojo project](http://www.pseudo-dojo.org/) provide hints for the cutoff energy."
   ]
  },
  {
   "cell_type": "code",
   "execution_count": null,
   "metadata": {},
   "outputs": [],
   "source": [
    "%embed http://www.pseudo-dojo.org/"
   ]
  },
  {
   "cell_type": "code",
   "execution_count": null,
   "metadata": {
    "slideshow": {
     "slide_type": "-"
    }
   },
   "outputs": [],
   "source": [
    "from pseudo_dojo.core.pseudos import OfficialDojoTable\n",
    "pseudo_table = OfficialDojoTable.from_dojodir('ONCVPSP-PBEsol-PDv0.4','standard')"
   ]
  },
  {
   "cell_type": "markdown",
   "metadata": {
    "slideshow": {
     "slide_type": "skip"
    }
   },
   "source": [
    "<a href=\"http://www.pseudo-dojo.org/\">\n",
    "<img src=\"assets/pseudodojo.png\" alt=\"PseudoDojo website\" align=\"center\">\n",
    "</a>"
   ]
  },
  {
   "cell_type": "markdown",
   "metadata": {
    "slideshow": {
     "slide_type": "skip"
    }
   },
   "source": [
    "<img src=\"./assets/pseudodojo_validation_results.png\" width=\"75%\" align=\"center\">"
   ]
  },
  {
   "cell_type": "markdown",
   "metadata": {
    "slideshow": {
     "slide_type": "slide"
    }
   },
   "source": [
    "## Workflow infrastructure\n",
    "\n",
    "Two different approaches:\n",
    "\n",
    "#### AbiPy workflows:\n",
    "\n",
    "   * Lightweight implementation (*pymatgen* + *AbiPy*)\n",
    "   * No database required. Object persistence provided by [*pickle*](https://docs.python.org/3/library/pickle.html)\n",
    "   * Ideal tool for prototyping \n",
    "    \n",
    "    \n",
    "#### AbiFlows workflows: \n",
    "\n",
    "   * Requires [MongoDb](https://www.mongodb.com/) database\n",
    "   * Based on [fireworks](https://materialsproject.github.io/fireworks/)\n",
    "   * Designed and optimized for <u>high-throughput applications</u>\n",
    "   \n",
    "<hr>\n",
    "\n",
    "Both approaches share the same codebase (*AbinitInput*, factory functions, AbiPy objects).\n",
    "\n",
    "Number and type of calculations are important ➝ choose the approach that suits to your needs."
   ]
  },
  {
   "cell_type": "markdown",
   "metadata": {
    "slideshow": {
     "slide_type": "slide"
    }
   },
   "source": [
    "##### but now one can take advantage of MongoDb to run many calculations in a full automatic way:\n",
    "\n",
    "\n",
    "```python\n",
    "from abiflows.fireworks.workflows.abinit_workflows import *\n",
    "from abiflows.database.mongoengine.utils import DatabaseData\n",
    "from abiflows.database.mongoengine.abinit_results import RelaxResult\n",
    "from pseudo_dojo.core.pseudos import OfficialDojoTable\n",
    "\n",
    "# Pseudopotential Table from PseudoDojo\n",
    "pseudo_table = OfficialDojoTable.from_dojodir('ONCVPSP-PBEsol-PDv0.4','standard')\n",
    "\n",
    "# Database with relaxed structures\n",
    "source_db = DatabaseData(host='database_address', port=27017, \n",
    "                         collection='collection_name_used_for_relax', \n",
    "                         database='database_used_to_store_relax_calc')\n",
    "\n",
    "# Database used to store DFPT results.\n",
    "db = DatabaseData(host='database_address', port=27017, collection='phonon_bs', \n",
    "                  database='database_name_eg_phonons')\n",
    "\n",
    "# Connect to the database\n",
    "source_db.connect_mongoengine()\n",
    "\n",
    "# Download relaxed structure from the database.\n",
    "with source_db.switch_collection(RelaxResult) as RelaxResult:\n",
    "    relaxed_structure = RelaxResult.objects(mp_id=\"mp-149\")[0].structure\n",
    "\n",
    "wf = PhononFullFWWorkflow.from_factory(structure=structure, pseudos=pseudo_table)\n",
    "\n",
    "wf.add_mongoengine_db_insertion(db)\n",
    "wf.add_final_cleanup([\"WFK\", \"1WF\", \"WFQ\", \"1POT\", \"1DEN\"])\n",
    "wf.add_to_db()\n",
    "```"
   ]
  },
  {
   "cell_type": "markdown",
   "metadata": {
    "slideshow": {
     "slide_type": "slide"
    }
   },
   "source": [
    "## Conclusion\n",
    "\n",
    "* The *ab-initio* community is migrating to *python* to implement:\n",
    "\n",
    "    * Pre-processing and post-processing tools\n",
    "    * Web-based technologies to analyze/visualize data (*e.g.* *jupyter* notebooks …) \n",
    "    * High-level logic for scientific workflows and *high-throughput* applications\n",
    "    \n",
    "* <u>Difficulties</u> for users:\n",
    "\n",
    "    * Installation of big software stack (C, C++, Fortran, Python, Javascript …)\n",
    "    * Multiple technologies under the hood (databases, *JSON*, *HDF5*, *MPI/OMP* …) \n",
    "    * Users are supposed to be familiar with programming techniques\n",
    "\n",
    "* <u>Advantages</u> for users:\n",
    "    \n",
    "    * Traditional GUIs are still useful but researchers sometimes need programmatic \n",
    "      interfaces to analyze raw data\n",
    "    * Several *python* packages to boost productivity and do better science\n",
    "\n",
    "\n",
    "> \"An investment in knowledge pays the best interest\" (B. Franklin)"
   ]
  }
 ],
 "metadata": {
  "celltoolbar": "Slideshow",
  "kernelspec": {
   "display_name": "Python 3",
   "language": "python",
   "name": "python3"
  },
  "language_info": {
   "codemirror_mode": {
    "name": "ipython",
    "version": 3
   },
   "file_extension": ".py",
   "mimetype": "text/x-python",
   "name": "python",
   "nbconvert_exporter": "python",
   "pygments_lexer": "ipython3",
   "version": "3.6.8"
  },
  "latex_envs": {
   "bibliofile": "biblio.bib",
   "cite_by": "apalike",
   "current_citInitial": 1,
   "eqLabelWithNumbers": true,
   "eqNumInitial": 0
  }
 },
 "nbformat": 4,
 "nbformat_minor": 2
}
